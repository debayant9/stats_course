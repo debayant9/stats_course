{
 "cells": [
  {
   "cell_type": "code",
   "execution_count": 1,
   "metadata": {},
   "outputs": [
    {
     "ename": "FileNotFoundError",
     "evalue": "[Errno 2] No such file or directory: 'companies.csv'",
     "output_type": "error",
     "traceback": [
      "\u001b[1;31m---------------------------------------------------------------------------\u001b[0m",
      "\u001b[1;31mFileNotFoundError\u001b[0m                         Traceback (most recent call last)",
      "\u001b[1;32m<ipython-input-1-e26146857007>\u001b[0m in \u001b[0;36m<module>\u001b[1;34m\u001b[0m\n\u001b[0;32m      3\u001b[0m \u001b[1;33m\u001b[0m\u001b[0m\n\u001b[0;32m      4\u001b[0m \u001b[1;31m#Create a DataFrame from companies.csv\u001b[0m\u001b[1;33m\u001b[0m\u001b[1;33m\u001b[0m\u001b[1;33m\u001b[0m\u001b[0m\n\u001b[1;32m----> 5\u001b[1;33m \u001b[0mcompanies\u001b[0m \u001b[1;33m=\u001b[0m \u001b[0mpd\u001b[0m\u001b[1;33m.\u001b[0m\u001b[0mread_csv\u001b[0m\u001b[1;33m(\u001b[0m\u001b[1;34m\"companies.csv\"\u001b[0m\u001b[1;33m,\u001b[0m\u001b[0msep\u001b[0m \u001b[1;33m=\u001b[0m \u001b[1;34m\"\\\\t\"\u001b[0m\u001b[1;33m,\u001b[0m \u001b[0mencoding\u001b[0m\u001b[1;33m=\u001b[0m\u001b[1;34m'ANSI'\u001b[0m\u001b[1;33m,\u001b[0m \u001b[0mengine\u001b[0m \u001b[1;33m=\u001b[0m \u001b[1;34m'python'\u001b[0m\u001b[1;33m)\u001b[0m\u001b[1;33m\u001b[0m\u001b[1;33m\u001b[0m\u001b[0m\n\u001b[0m\u001b[0;32m      6\u001b[0m \u001b[0mcompanies\u001b[0m\u001b[1;33m.\u001b[0m\u001b[0mhead\u001b[0m\u001b[1;33m(\u001b[0m\u001b[1;33m)\u001b[0m\u001b[1;33m\u001b[0m\u001b[1;33m\u001b[0m\u001b[0m\n",
      "\u001b[1;32m~\\Anaconda3\\lib\\site-packages\\pandas\\io\\parsers.py\u001b[0m in \u001b[0;36mparser_f\u001b[1;34m(filepath_or_buffer, sep, delimiter, header, names, index_col, usecols, squeeze, prefix, mangle_dupe_cols, dtype, engine, converters, true_values, false_values, skipinitialspace, skiprows, skipfooter, nrows, na_values, keep_default_na, na_filter, verbose, skip_blank_lines, parse_dates, infer_datetime_format, keep_date_col, date_parser, dayfirst, iterator, chunksize, compression, thousands, decimal, lineterminator, quotechar, quoting, doublequote, escapechar, comment, encoding, dialect, tupleize_cols, error_bad_lines, warn_bad_lines, delim_whitespace, low_memory, memory_map, float_precision)\u001b[0m\n\u001b[0;32m    700\u001b[0m                     skip_blank_lines=skip_blank_lines)\n\u001b[0;32m    701\u001b[0m \u001b[1;33m\u001b[0m\u001b[0m\n\u001b[1;32m--> 702\u001b[1;33m         \u001b[1;32mreturn\u001b[0m \u001b[0m_read\u001b[0m\u001b[1;33m(\u001b[0m\u001b[0mfilepath_or_buffer\u001b[0m\u001b[1;33m,\u001b[0m \u001b[0mkwds\u001b[0m\u001b[1;33m)\u001b[0m\u001b[1;33m\u001b[0m\u001b[1;33m\u001b[0m\u001b[0m\n\u001b[0m\u001b[0;32m    703\u001b[0m \u001b[1;33m\u001b[0m\u001b[0m\n\u001b[0;32m    704\u001b[0m     \u001b[0mparser_f\u001b[0m\u001b[1;33m.\u001b[0m\u001b[0m__name__\u001b[0m \u001b[1;33m=\u001b[0m \u001b[0mname\u001b[0m\u001b[1;33m\u001b[0m\u001b[1;33m\u001b[0m\u001b[0m\n",
      "\u001b[1;32m~\\Anaconda3\\lib\\site-packages\\pandas\\io\\parsers.py\u001b[0m in \u001b[0;36m_read\u001b[1;34m(filepath_or_buffer, kwds)\u001b[0m\n\u001b[0;32m    427\u001b[0m \u001b[1;33m\u001b[0m\u001b[0m\n\u001b[0;32m    428\u001b[0m     \u001b[1;31m# Create the parser.\u001b[0m\u001b[1;33m\u001b[0m\u001b[1;33m\u001b[0m\u001b[1;33m\u001b[0m\u001b[0m\n\u001b[1;32m--> 429\u001b[1;33m     \u001b[0mparser\u001b[0m \u001b[1;33m=\u001b[0m \u001b[0mTextFileReader\u001b[0m\u001b[1;33m(\u001b[0m\u001b[0mfilepath_or_buffer\u001b[0m\u001b[1;33m,\u001b[0m \u001b[1;33m**\u001b[0m\u001b[0mkwds\u001b[0m\u001b[1;33m)\u001b[0m\u001b[1;33m\u001b[0m\u001b[1;33m\u001b[0m\u001b[0m\n\u001b[0m\u001b[0;32m    430\u001b[0m \u001b[1;33m\u001b[0m\u001b[0m\n\u001b[0;32m    431\u001b[0m     \u001b[1;32mif\u001b[0m \u001b[0mchunksize\u001b[0m \u001b[1;32mor\u001b[0m \u001b[0miterator\u001b[0m\u001b[1;33m:\u001b[0m\u001b[1;33m\u001b[0m\u001b[1;33m\u001b[0m\u001b[0m\n",
      "\u001b[1;32m~\\Anaconda3\\lib\\site-packages\\pandas\\io\\parsers.py\u001b[0m in \u001b[0;36m__init__\u001b[1;34m(self, f, engine, **kwds)\u001b[0m\n\u001b[0;32m    893\u001b[0m             \u001b[0mself\u001b[0m\u001b[1;33m.\u001b[0m\u001b[0moptions\u001b[0m\u001b[1;33m[\u001b[0m\u001b[1;34m'has_index_names'\u001b[0m\u001b[1;33m]\u001b[0m \u001b[1;33m=\u001b[0m \u001b[0mkwds\u001b[0m\u001b[1;33m[\u001b[0m\u001b[1;34m'has_index_names'\u001b[0m\u001b[1;33m]\u001b[0m\u001b[1;33m\u001b[0m\u001b[1;33m\u001b[0m\u001b[0m\n\u001b[0;32m    894\u001b[0m \u001b[1;33m\u001b[0m\u001b[0m\n\u001b[1;32m--> 895\u001b[1;33m         \u001b[0mself\u001b[0m\u001b[1;33m.\u001b[0m\u001b[0m_make_engine\u001b[0m\u001b[1;33m(\u001b[0m\u001b[0mself\u001b[0m\u001b[1;33m.\u001b[0m\u001b[0mengine\u001b[0m\u001b[1;33m)\u001b[0m\u001b[1;33m\u001b[0m\u001b[1;33m\u001b[0m\u001b[0m\n\u001b[0m\u001b[0;32m    896\u001b[0m \u001b[1;33m\u001b[0m\u001b[0m\n\u001b[0;32m    897\u001b[0m     \u001b[1;32mdef\u001b[0m \u001b[0mclose\u001b[0m\u001b[1;33m(\u001b[0m\u001b[0mself\u001b[0m\u001b[1;33m)\u001b[0m\u001b[1;33m:\u001b[0m\u001b[1;33m\u001b[0m\u001b[1;33m\u001b[0m\u001b[0m\n",
      "\u001b[1;32m~\\Anaconda3\\lib\\site-packages\\pandas\\io\\parsers.py\u001b[0m in \u001b[0;36m_make_engine\u001b[1;34m(self, engine)\u001b[0m\n\u001b[0;32m   1130\u001b[0m                                  ' \"c\", \"python\", or' ' \"python-fwf\")'.format(\n\u001b[0;32m   1131\u001b[0m                                      engine=engine))\n\u001b[1;32m-> 1132\u001b[1;33m             \u001b[0mself\u001b[0m\u001b[1;33m.\u001b[0m\u001b[0m_engine\u001b[0m \u001b[1;33m=\u001b[0m \u001b[0mklass\u001b[0m\u001b[1;33m(\u001b[0m\u001b[0mself\u001b[0m\u001b[1;33m.\u001b[0m\u001b[0mf\u001b[0m\u001b[1;33m,\u001b[0m \u001b[1;33m**\u001b[0m\u001b[0mself\u001b[0m\u001b[1;33m.\u001b[0m\u001b[0moptions\u001b[0m\u001b[1;33m)\u001b[0m\u001b[1;33m\u001b[0m\u001b[1;33m\u001b[0m\u001b[0m\n\u001b[0m\u001b[0;32m   1133\u001b[0m \u001b[1;33m\u001b[0m\u001b[0m\n\u001b[0;32m   1134\u001b[0m     \u001b[1;32mdef\u001b[0m \u001b[0m_failover_to_python\u001b[0m\u001b[1;33m(\u001b[0m\u001b[0mself\u001b[0m\u001b[1;33m)\u001b[0m\u001b[1;33m:\u001b[0m\u001b[1;33m\u001b[0m\u001b[1;33m\u001b[0m\u001b[0m\n",
      "\u001b[1;32m~\\Anaconda3\\lib\\site-packages\\pandas\\io\\parsers.py\u001b[0m in \u001b[0;36m__init__\u001b[1;34m(self, f, **kwds)\u001b[0m\n\u001b[0;32m   2223\u001b[0m         f, handles = _get_handle(f, mode, encoding=self.encoding,\n\u001b[0;32m   2224\u001b[0m                                  \u001b[0mcompression\u001b[0m\u001b[1;33m=\u001b[0m\u001b[0mself\u001b[0m\u001b[1;33m.\u001b[0m\u001b[0mcompression\u001b[0m\u001b[1;33m,\u001b[0m\u001b[1;33m\u001b[0m\u001b[1;33m\u001b[0m\u001b[0m\n\u001b[1;32m-> 2225\u001b[1;33m                                  memory_map=self.memory_map)\n\u001b[0m\u001b[0;32m   2226\u001b[0m         \u001b[0mself\u001b[0m\u001b[1;33m.\u001b[0m\u001b[0mhandles\u001b[0m\u001b[1;33m.\u001b[0m\u001b[0mextend\u001b[0m\u001b[1;33m(\u001b[0m\u001b[0mhandles\u001b[0m\u001b[1;33m)\u001b[0m\u001b[1;33m\u001b[0m\u001b[1;33m\u001b[0m\u001b[0m\n\u001b[0;32m   2227\u001b[0m \u001b[1;33m\u001b[0m\u001b[0m\n",
      "\u001b[1;32m~\\Anaconda3\\lib\\site-packages\\pandas\\io\\common.py\u001b[0m in \u001b[0;36m_get_handle\u001b[1;34m(path_or_buf, mode, encoding, compression, memory_map, is_text)\u001b[0m\n\u001b[0;32m    422\u001b[0m         \u001b[1;32melif\u001b[0m \u001b[0mencoding\u001b[0m\u001b[1;33m:\u001b[0m\u001b[1;33m\u001b[0m\u001b[1;33m\u001b[0m\u001b[0m\n\u001b[0;32m    423\u001b[0m             \u001b[1;31m# Python 3 and encoding\u001b[0m\u001b[1;33m\u001b[0m\u001b[1;33m\u001b[0m\u001b[1;33m\u001b[0m\u001b[0m\n\u001b[1;32m--> 424\u001b[1;33m             \u001b[0mf\u001b[0m \u001b[1;33m=\u001b[0m \u001b[0mopen\u001b[0m\u001b[1;33m(\u001b[0m\u001b[0mpath_or_buf\u001b[0m\u001b[1;33m,\u001b[0m \u001b[0mmode\u001b[0m\u001b[1;33m,\u001b[0m \u001b[0mencoding\u001b[0m\u001b[1;33m=\u001b[0m\u001b[0mencoding\u001b[0m\u001b[1;33m,\u001b[0m \u001b[0mnewline\u001b[0m\u001b[1;33m=\u001b[0m\u001b[1;34m\"\"\u001b[0m\u001b[1;33m)\u001b[0m\u001b[1;33m\u001b[0m\u001b[1;33m\u001b[0m\u001b[0m\n\u001b[0m\u001b[0;32m    425\u001b[0m         \u001b[1;32melif\u001b[0m \u001b[0mis_text\u001b[0m\u001b[1;33m:\u001b[0m\u001b[1;33m\u001b[0m\u001b[1;33m\u001b[0m\u001b[0m\n\u001b[0;32m    426\u001b[0m             \u001b[1;31m# Python 3 and no explicit encoding\u001b[0m\u001b[1;33m\u001b[0m\u001b[1;33m\u001b[0m\u001b[1;33m\u001b[0m\u001b[0m\n",
      "\u001b[1;31mFileNotFoundError\u001b[0m: [Errno 2] No such file or directory: 'companies.csv'"
     ]
    }
   ],
   "source": [
    "import numpy as np\n",
    "import pandas as pd\n",
    "\n",
    "#Create a DataFrame from companies.csv\n",
    "companies = pd.read_csv(\"companies.csv\",sep = \"\\\\t\", encoding='ANSI', engine = 'python')\n",
    "companies.head()"
   ]
  },
  {
   "cell_type": "code",
   "execution_count": null,
   "metadata": {},
   "outputs": [],
   "source": [
    "#change permalink column to lowercase\n",
    "companies['permalink'] = pd.DataFrame(map(lambda x: x.lower(), companies.permalink))\n",
    "\n",
    "# The number of unique companies in \"companies\"\n",
    "companies.nunique(axis = 0)"
   ]
  },
  {
   "cell_type": "code",
   "execution_count": null,
   "metadata": {},
   "outputs": [],
   "source": [
    "#Create a DataFrame from rounds2.csv\n",
    "rounds2 = pd.read_csv(\"rounds2.csv\", encoding='ANSI')\n",
    "rounds2.head()"
   ]
  },
  {
   "cell_type": "code",
   "execution_count": null,
   "metadata": {},
   "outputs": [],
   "source": [
    "#change company_permalink column to lowercase\n",
    "rounds2['company_permalink'] = pd.DataFrame(map(lambda x: x.lower(), rounds2.company_permalink))\n",
    "\n",
    "# The number of unique companies in \"rounds2\"\n",
    "rounds2.nunique(axis = 0)"
   ]
  },
  {
   "cell_type": "code",
   "execution_count": null,
   "metadata": {},
   "outputs": [],
   "source": [
    "# Renaming the column \"permalink\" to \"company_permalink\" to make it unique_id while merging with rounds2\n",
    "companies.rename(columns={'permalink':'company_permalink'}, inplace=True)\n",
    "companies.head()"
   ]
  },
  {
   "cell_type": "code",
   "execution_count": null,
   "metadata": {},
   "outputs": [],
   "source": [
    "# Outer merge of companies to rounds2 to find any company only present in any of the DataFrame\n",
    "master_frame1 = pd.merge(rounds2, companies, on='company_permalink', how='outer', indicator='Exist')\n",
    "diff_df = master_frame1.loc[master_frame1['Exist'] != 'both']\n",
    "diff_df"
   ]
  },
  {
   "cell_type": "code",
   "execution_count": null,
   "metadata": {},
   "outputs": [],
   "source": [
    "# Found a company whose permalink had an extra semicolon in companies dataframe from that in rounds2. \n",
    "\n",
    "inRounds2 = diff_df.loc[114849, 'company_permalink']\n",
    "inCompanies = diff_df.loc[114949, 'company_permalink']"
   ]
  },
  {
   "cell_type": "code",
   "execution_count": null,
   "metadata": {},
   "outputs": [],
   "source": [
    "# Fixing the error in comapnies DataFrame\n",
    "companies.loc[companies.company_permalink == inCompanies, 'company_permalink'] = inRounds2"
   ]
  },
  {
   "cell_type": "code",
   "execution_count": null,
   "metadata": {},
   "outputs": [],
   "source": [
    "# Final merging of comapnies with rounds2\n",
    "master_frame = pd.merge(rounds2, companies, on='company_permalink', how='inner')\n",
    "master_frame = master_frame.drop(['funding_round_code','homepage_url','state_code','region','founded_at'], axis=1)\n",
    "master_frame.head()"
   ]
  },
  {
   "cell_type": "markdown",
   "metadata": {},
   "source": [
    "1) Calculate the most representative value of the investment amount for each of the four funding types (venture, angel, seed, and private equity).\n",
    "\n",
    "2) Based on the most representative investment amount calculated above, which investment type do you think is the most suitable for Spark Funds?"
   ]
  },
  {
   "cell_type": "code",
   "execution_count": null,
   "metadata": {},
   "outputs": [],
   "source": [
    "# Remove rows with where investment value is NaN\n",
    "master_frame.dropna(subset=['raised_amount_usd'], inplace = True)"
   ]
  },
  {
   "cell_type": "code",
   "execution_count": null,
   "metadata": {},
   "outputs": [],
   "source": [
    "# Grouping by funding_round_type column\n",
    "df_by_fundingtype = master_frame.groupby('funding_round_type')\n",
    "df_by_fundingtype"
   ]
  },
  {
   "cell_type": "code",
   "execution_count": null,
   "metadata": {},
   "outputs": [],
   "source": [
    "# Finding the average investments in Venture, angel, seed, private_equity fund types\n",
    "# This is to find the most suitable fund type to invest with capital of 5 mill - 15 mill USD\n",
    "average_investments = pd.DataFrame(df_by_fundingtype['raised_amount_usd'].mean())\n",
    "average_investments.sort_values('raised_amount_usd', ascending = False)\n",
    "\n",
    "average_investments"
   ]
  },
  {
   "cell_type": "code",
   "execution_count": null,
   "metadata": {},
   "outputs": [],
   "source": [
    "list_of_funding_types = (average_investments.reset_index())['funding_round_type'].tolist()\n",
    "list_of_funding_types"
   ]
  },
  {
   "cell_type": "code",
   "execution_count": null,
   "metadata": {},
   "outputs": [],
   "source": [
    "import matplotlib.pyplot as plt\n",
    "\n",
    "\n",
    "funding_type_counts = list(map(lambda c : (master_frame.funding_round_type == c).sum(), list_of_funding_types))\n",
    "funding_type_dict = {'funding_types':list_of_funding_types, 'total count': funding_type_counts}\n",
    "\n",
    "allfundtypescount = pd.DataFrame(funding_type_dict)\n",
    "allfundtypescount = allfundtypescount.set_index('funding_types')\n",
    "focusfindingtypes = allfundtypescount.loc[['venture','seed','private_equity'], :]\n",
    "\n",
    "allfundtypescount = allfundtypescount.drop(['venture','seed','private_equity'])\n",
    "focusfindingtypes\n",
    "allfundtypescount.loc['Others'] = allfundtypescount['total count'].sum()\n",
    "allfundtypescount\n",
    "focusfindingtypes.loc['Others'] = allfundtypescount.loc['Others']\n",
    "focusfindingtypes = focusfindingtypes.reset_index()\n",
    "focusfindingtypes"
   ]
  },
  {
   "cell_type": "code",
   "execution_count": null,
   "metadata": {},
   "outputs": [],
   "source": [
    "import matplotlib.pyplot as plt\n",
    "import seaborn as sns\n",
    "\n",
    "\n",
    "plt.figure(figsize=(10, 6))\n",
    "\n",
    "# subplot 1: Funding type preferred by investors globally\n",
    "fundstype = focusfindingtypes['funding_types']\n",
    "count = focusfindingtypes['total count']\n",
    "explode = (0.1, 0, 0, 0) \n",
    "colors = [\"#1f77b4\", \"#ff7f0e\", \"#2ca02c\", \"#d62728\"]\n",
    "plt.pie(count, labels=fundstype, explode=explode,\n",
    "autopct='%1.1f%%', shadow=True, startangle=360)\n",
    "plt.title(\"Funding type preferred by investors globally\")\n",
    "\n",
    "plt.show()\n",
    "\n",
    "\n"
   ]
  },
  {
   "cell_type": "markdown",
   "metadata": {},
   "source": [
    "1) Spark Funds wants to see the top nine countries which have received the highest total funding (across ALL sectors for the    chosen investment type)\n",
    "\n",
    "2) For the chosen investment type, make a data frame named top9 with the top nine countries (based on the total investment amount each country has received)"
   ]
  },
  {
   "cell_type": "code",
   "execution_count": null,
   "metadata": {},
   "outputs": [],
   "source": [
    "#Finding top 9 countries for venture investment\n",
    "pi_table = master_frame.pivot_table(values = 'raised_amount_usd', \n",
    "                      index = 'country_code', \n",
    "                      columns = 'funding_round_type', \n",
    "                      aggfunc = 'sum')\n",
    "pi_table.dropna(subset=['venture'], inplace = True)\n",
    "df_venture = pd.DataFrame(pi_table.venture)\n",
    "allcountries = df_venture.sort_values('venture', ascending = False)\n",
    "top9 = allcountries.loc['USA':'JPN', :].reset_index()\n",
    "# top9 = top9.reset_index()\n",
    "top9"
   ]
  },
  {
   "cell_type": "markdown",
   "metadata": {},
   "source": [
    "1) Extract the primary sector of each category list from the category_list column\n",
    "\n",
    "2) Use the mapping file 'mapping.csv' to map each primary sector to one of the eight main sectors (Note that ‘Others’ is also considered one of the main sectors)"
   ]
  },
  {
   "cell_type": "code",
   "execution_count": null,
   "metadata": {},
   "outputs": [],
   "source": [
    "mapping = pd.read_csv(\"mapping.csv\", encoding='ANSI')"
   ]
  },
  {
   "cell_type": "code",
   "execution_count": null,
   "metadata": {
    "scrolled": true
   },
   "outputs": [],
   "source": [
    "master_frame['category_list'] = master_frame['category_list'].fillna(\"\")\n",
    "master_frame['primary_sector'] = master_frame['category_list'].apply(lambda x:x.split(\"|\")[0])\n",
    "#master_frame(master_frame.category_list == 0)"
   ]
  },
  {
   "cell_type": "code",
   "execution_count": null,
   "metadata": {},
   "outputs": [],
   "source": [
    "sector = pd.DataFrame(mapping.category_list)\n",
    "sector"
   ]
  },
  {
   "cell_type": "code",
   "execution_count": null,
   "metadata": {},
   "outputs": [],
   "source": [
    "sector['main_sector'] = mapping.apply(lambda x: mapping.columns[x==1].values[0], axis = 1)\n",
    "sector.rename(columns={'category_list':'primary_sector'}, inplace=True)"
   ]
  },
  {
   "cell_type": "code",
   "execution_count": null,
   "metadata": {},
   "outputs": [],
   "source": [
    "master_frame = pd.merge(master_frame, sector, on = 'primary_sector', how = 'inner')\n",
    "master_frame"
   ]
  },
  {
   "cell_type": "markdown",
   "metadata": {},
   "source": [
    "1) Create three separate data frames for each of the three countries containing the observations of funding type FT falling within the 5-15 million USD range. The three data frames should contain:\n",
    "\n",
    "2) All the columns of the master_frame along with the primary sector and the main sector\n",
    "\n",
    "3) The total number (or count) of investments for each main sector in a separate column\n",
    "\n",
    "4) The total amount invested in each main sector in a separate column"
   ]
  },
  {
   "cell_type": "code",
   "execution_count": null,
   "metadata": {},
   "outputs": [],
   "source": [
    "df_USA = master_frame.loc[(master_frame['country_code'] == 'USA') & (master_frame['funding_round_type'] == 'venture') & (master_frame['raised_amount_usd'] >= 5000000) & (master_frame['raised_amount_usd'] <= 15000000)]\n",
    "df_USA"
   ]
  },
  {
   "cell_type": "code",
   "execution_count": null,
   "metadata": {},
   "outputs": [],
   "source": [
    "main_sector_list = [\"Entertainment\", \"Manufacturing\", \"Others\", \"News, Search and Messaging\", \"Cleantech / Semiconductors\", \"Health\", \"Social, Finance, Analytics, Advertising\", \"Automotive & Sports\"]\n"
   ]
  },
  {
   "cell_type": "code",
   "execution_count": null,
   "metadata": {},
   "outputs": [],
   "source": [
    "main_sector_counts_usa = list(map(lambda c : (df_USA.main_sector == c).sum(), main_sector_list))\n",
    "main_sec_dic_usa = {'main_sector':main_sector_list, 'total count': main_sector_counts_usa}"
   ]
  },
  {
   "cell_type": "code",
   "execution_count": null,
   "metadata": {},
   "outputs": [],
   "source": [
    "tobemergedsectorcount_usa = pd.DataFrame(main_sec_dic_usa)\n",
    "tobemergedsectorcount_usa\n",
    "\n",
    "tobeplottedcount_usa = tobemergedsectorcount_usa.set_index('main_sector')\n",
    "tobeplottedcount_usa = tobeplottedcount_usa.sort_values('total count', ascending = False)\n",
    "tobeplottedcount_usa = tobeplottedcount_usa.loc[['Others','Cleantech / Semiconductors','Social, Finance, Analytics, Advertising'],:]\n",
    "tobeplottedcount_usa"
   ]
  },
  {
   "cell_type": "code",
   "execution_count": null,
   "metadata": {},
   "outputs": [],
   "source": [
    "tobemergedsectorcount_usa['total count'].sum()"
   ]
  },
  {
   "cell_type": "code",
   "execution_count": null,
   "metadata": {},
   "outputs": [],
   "source": [
    "df_USA = pd.merge(df_USA, tobemergedsectorcount_usa, on = \"main_sector\")\n",
    "df_USA"
   ]
  },
  {
   "cell_type": "code",
   "execution_count": null,
   "metadata": {},
   "outputs": [],
   "source": [
    "totalamounttobemerged_usa = df_USA.pivot_table(values = 'raised_amount_usd', \n",
    "                      index = 'main_sector',\n",
    "                      aggfunc = 'sum')\n",
    "totalamounttobemerged_usa.rename(columns={'raised_amount_usd':'total investment/main_sector'}, inplace=True)"
   ]
  },
  {
   "cell_type": "code",
   "execution_count": null,
   "metadata": {},
   "outputs": [],
   "source": [
    "df_USA = pd.merge(df_USA, totalamounttobemerged_usa, on = \"main_sector\")\n",
    "df_USA"
   ]
  },
  {
   "cell_type": "code",
   "execution_count": null,
   "metadata": {},
   "outputs": [],
   "source": [
    "totalamounttobemerged_usa['total investment/main_sector'].sum()"
   ]
  },
  {
   "cell_type": "code",
   "execution_count": null,
   "metadata": {},
   "outputs": [],
   "source": [
    "comapanywithtopsectorinvestment_usa = df_USA[df_USA.main_sector == \"Others\"]\n",
    "comapanywithtopsectorinvestment_usa.pivot_table(values = 'raised_amount_usd', \n",
    "                      index = 'name',\n",
    "                      aggfunc = 'sum').sort_values('raised_amount_usd', ascending = False).astype(str)"
   ]
  },
  {
   "cell_type": "code",
   "execution_count": null,
   "metadata": {},
   "outputs": [],
   "source": [
    "comapanywithsecondtopsectorinvestment_usa = df_USA[df_USA.main_sector == \"Cleantech / Semiconductors\"]\n",
    "comapanywithsecondtopsectorinvestment_usa.pivot_table(values = 'raised_amount_usd', \n",
    "                      index = 'name',\n",
    "                      aggfunc = 'sum').sort_values('raised_amount_usd', ascending = False).astype(str)"
   ]
  },
  {
   "cell_type": "code",
   "execution_count": null,
   "metadata": {},
   "outputs": [],
   "source": [
    "df_GBR = master_frame.loc[(master_frame['country_code'] == 'GBR') & (master_frame['funding_round_type'] == 'venture') & (master_frame['raised_amount_usd'] >= 5000000) & (master_frame['raised_amount_usd'] <= 15000000)]\n",
    "df_GBR"
   ]
  },
  {
   "cell_type": "code",
   "execution_count": null,
   "metadata": {},
   "outputs": [],
   "source": [
    "main_sector_counts_gbr = list(map(lambda c : (df_GBR.main_sector == c).sum(), main_sector_list))\n",
    "main_sec_dic_gbr = {'main_sector':main_sector_list, 'total count': main_sector_counts_gbr}"
   ]
  },
  {
   "cell_type": "code",
   "execution_count": null,
   "metadata": {},
   "outputs": [],
   "source": [
    "tobemergedsectorcount_gbr = pd.DataFrame(main_sec_dic_gbr)\n",
    "tobeplottedcount_gbr = tobemergedsectorcount_gbr.set_index('main_sector')\n",
    "tobeplottedcount_gbr = tobeplottedcount_gbr.sort_values('total count', ascending = False)\n",
    "tobeplottedcount_gbr = tobeplottedcount_gbr.loc[['Others','Cleantech / Semiconductors','Social, Finance, Analytics, Advertising'],:]\n",
    "tobeplottedcount_gbr"
   ]
  },
  {
   "cell_type": "code",
   "execution_count": null,
   "metadata": {},
   "outputs": [],
   "source": [
    "tobemergedsectorcount_gbr['total count'].sum()"
   ]
  },
  {
   "cell_type": "code",
   "execution_count": null,
   "metadata": {},
   "outputs": [],
   "source": [
    "df_GBR = pd.merge(df_GBR, tobemergedsectorcount_gbr, on = \"main_sector\")\n",
    "df_GBR"
   ]
  },
  {
   "cell_type": "code",
   "execution_count": null,
   "metadata": {},
   "outputs": [],
   "source": [
    "totalamounttobemerged_gbr = df_GBR.pivot_table(values = 'raised_amount_usd', \n",
    "                      index = 'main_sector',\n",
    "                      aggfunc = 'sum')\n",
    "totalamounttobemerged_gbr.rename(columns={'raised_amount_usd':'total investment/main_sector'}, inplace=True)\n",
    "totalamounttobemerged_gbr.astype(str)"
   ]
  },
  {
   "cell_type": "code",
   "execution_count": null,
   "metadata": {},
   "outputs": [],
   "source": [
    "df_GBR = pd.merge(df_GBR, totalamounttobemerged_gbr, on = \"main_sector\")\n",
    "df_GBR"
   ]
  },
  {
   "cell_type": "code",
   "execution_count": null,
   "metadata": {},
   "outputs": [],
   "source": [
    "totalamounttobemerged_gbr['total investment/main_sector'].sum()"
   ]
  },
  {
   "cell_type": "code",
   "execution_count": null,
   "metadata": {},
   "outputs": [],
   "source": [
    "comapanywithtopsectorinvestment_gbr = df_GBR[df_GBR.main_sector == \"Others\"]\n",
    "comapanywithtopsectorinvestment_gbr.pivot_table(values = 'raised_amount_usd', \n",
    "                      index = 'name',\n",
    "                      aggfunc = 'sum').sort_values('raised_amount_usd', ascending = False).astype(str)"
   ]
  },
  {
   "cell_type": "code",
   "execution_count": null,
   "metadata": {},
   "outputs": [],
   "source": [
    "comapanywithsecondtopsectorinvestment_gbr = df_GBR[df_GBR.main_sector == \"Cleantech / Semiconductors\"]\n",
    "comapanywithsecondtopsectorinvestment_gbr.pivot_table(values = 'raised_amount_usd', \n",
    "                      index = 'name',\n",
    "                      aggfunc = 'sum').sort_values('raised_amount_usd', ascending = False).astype(str)"
   ]
  },
  {
   "cell_type": "code",
   "execution_count": null,
   "metadata": {},
   "outputs": [],
   "source": [
    "df_IND = master_frame.loc[(master_frame['country_code'] == 'IND') & (master_frame['funding_round_type'] == 'venture') & (master_frame['raised_amount_usd'] >= 5000000) & (master_frame['raised_amount_usd'] <= 15000000)]\n",
    "df_IND"
   ]
  },
  {
   "cell_type": "code",
   "execution_count": null,
   "metadata": {},
   "outputs": [],
   "source": [
    "main_sector_counts_ind = list(map(lambda c : (df_IND.main_sector == c).sum(), main_sector_list))\n",
    "main_sec_dic_ind = {'main_sector':main_sector_list, 'total count': main_sector_counts_ind}"
   ]
  },
  {
   "cell_type": "code",
   "execution_count": null,
   "metadata": {},
   "outputs": [],
   "source": [
    "tobemergedsectorcount_ind = pd.DataFrame(main_sec_dic_ind)\n",
    "tobeplottedcount_ind = tobemergedsectorcount_ind.set_index('main_sector')\n",
    "tobeplottedcount_ind = tobeplottedcount_ind.sort_values('total count', ascending = False)\n",
    "tobeplottedcount_ind = tobeplottedcount_ind.loc[['Others','News, Search and Messaging','Entertainment'],:]\n",
    "tobeplottedcount_ind"
   ]
  },
  {
   "cell_type": "code",
   "execution_count": null,
   "metadata": {},
   "outputs": [],
   "source": [
    "tobemergedsectorcount_ind['total count'].sum()"
   ]
  },
  {
   "cell_type": "code",
   "execution_count": null,
   "metadata": {},
   "outputs": [],
   "source": [
    "df_IND = pd.merge(df_IND, tobemergedsectorcount_ind, on = \"main_sector\")\n",
    "df_IND"
   ]
  },
  {
   "cell_type": "code",
   "execution_count": null,
   "metadata": {},
   "outputs": [],
   "source": [
    "totalamounttobemerged_ind = df_IND.pivot_table(values = 'raised_amount_usd', \n",
    "                      index = 'main_sector',\n",
    "                      aggfunc = 'sum')\n",
    "totalamounttobemerged_ind.rename(columns={'raised_amount_usd':'total investment/main_sector'}, inplace=True)\n",
    "totalamounttobemerged_ind.astype(str)"
   ]
  },
  {
   "cell_type": "code",
   "execution_count": null,
   "metadata": {},
   "outputs": [],
   "source": [
    "df_IND = pd.merge(df_IND, totalamounttobemerged_ind, on = \"main_sector\")\n",
    "df_IND"
   ]
  },
  {
   "cell_type": "code",
   "execution_count": null,
   "metadata": {},
   "outputs": [],
   "source": [
    "totalamounttobemerged_ind['total investment/main_sector'].sum()"
   ]
  },
  {
   "cell_type": "code",
   "execution_count": null,
   "metadata": {
    "scrolled": true
   },
   "outputs": [],
   "source": [
    "comapanywithtopsectorinvestment_ind = df_IND[df_IND.main_sector == \"Others\"]\n",
    "comapanywithtopsectorinvestment_ind.pivot_table(values = 'raised_amount_usd', \n",
    "                      index = 'name',\n",
    "                      aggfunc = 'sum').sort_values('raised_amount_usd', ascending = False).astype(str)"
   ]
  },
  {
   "cell_type": "code",
   "execution_count": null,
   "metadata": {},
   "outputs": [],
   "source": [
    "comapanywithsecondtopsectorinvestment_ind = df_IND[df_IND.main_sector == \"News, Search and Messaging\"]\n",
    "comapanywithsecondtopsectorinvestment_ind.pivot_table(values = 'raised_amount_usd', \n",
    "                      index = 'name',\n",
    "                      aggfunc = 'sum').sort_values('raised_amount_usd', ascending = False).astype(str)"
   ]
  },
  {
   "cell_type": "code",
   "execution_count": null,
   "metadata": {},
   "outputs": [],
   "source": [
    "focused_investement = average_investments.loc[['private_equity','venture','seed'],:]\n",
    "focused_investement = focused_investement.reset_index()\n",
    "focused_investement"
   ]
  },
  {
   "cell_type": "code",
   "execution_count": null,
   "metadata": {},
   "outputs": [],
   "source": [
    "focusfindingtypes = focusfindingtypes.drop(3)\n",
    "focusfindingtypes"
   ]
  },
  {
   "cell_type": "code",
   "execution_count": null,
   "metadata": {
    "scrolled": false
   },
   "outputs": [],
   "source": [
    "import matplotlib.pyplot as plt\n",
    "import seaborn as sns\n",
    "\n",
    "plt.figure(figsize=(15, 10))\n",
    "\n",
    "# subplot 1: Share in number of investments among Venture, Private Equity and Seed funds\n",
    "plt.subplot(1, 2, 1)\n",
    "fundstype = focusfindingtypes['funding_types']\n",
    "count = focusfindingtypes['total count']\n",
    "explode = (0.1, 0, 0) \n",
    "colors = [\"#1f77b4\", \"#ff7f0e\", \"#2ca02c\"]\n",
    "plt.pie(count, labels=fundstype, explode=explode,\n",
    "autopct='%1.1f%%', shadow=True, startangle=360)\n",
    "plt.title(\"Share in number of investments among Venture, Private Equity and Seed funds.\")\n",
    "\n",
    "# subplot 2: Investment average in Private equity, venture and seed\n",
    "plt.subplot(1, 2, 2)\n",
    "sns.boxplot(x='funding_round_type', y='raised_amount_usd', data=focused_investement)\n",
    "plt.yscale('log')\n",
    "plt.title(\"Average Investments\")\n",
    "\n",
    "plt.show()\n",
    "\n",
    "\n"
   ]
  },
  {
   "cell_type": "code",
   "execution_count": null,
   "metadata": {
    "scrolled": true
   },
   "outputs": [],
   "source": [
    "plt.figure(figsize=(12, 10))\n",
    "top9\n",
    "sns.barplot(x='country_code', y='venture', data=top9)\n",
    "plt.title(\"Total Investments / Country\")\n",
    "\n",
    "plt.show()"
   ]
  },
  {
   "cell_type": "code",
   "execution_count": null,
   "metadata": {},
   "outputs": [],
   "source": [
    "tobeplottedcount_usa['Country'] = \"USA\"\n",
    "tobeplottedcount_gbr['Country'] = \"GBR\"\n",
    "tobeplottedcount_ind['Country'] = \"IND\"\n",
    "con = pd.concat([tobeplottedcount_usa, tobeplottedcount_gbr, tobeplottedcount_ind])\n",
    "con = con.reset_index()\n",
    "con"
   ]
  },
  {
   "cell_type": "code",
   "execution_count": null,
   "metadata": {
    "scrolled": true
   },
   "outputs": [],
   "source": [
    "plt.figure(figsize=(12, 10))\n",
    "sns.catplot(x=\"Country\", y=\"total count\", hue=\"main_sector\", data=con,\n",
    "                height=6, kind=\"bar\", palette=\"muted\")\n",
    "plt.title(\"Number of investments in the top 3 sectors of the top 3 countries\")\n",
    "\n",
    "plt.show()"
   ]
  }
 ],
 "metadata": {
  "kernelspec": {
   "display_name": "Python 3",
   "language": "python",
   "name": "python3"
  },
  "language_info": {
   "codemirror_mode": {
    "name": "ipython",
    "version": 3
   },
   "file_extension": ".py",
   "mimetype": "text/x-python",
   "name": "python",
   "nbconvert_exporter": "python",
   "pygments_lexer": "ipython3",
   "version": "3.7.3"
  }
 },
 "nbformat": 4,
 "nbformat_minor": 2
}
